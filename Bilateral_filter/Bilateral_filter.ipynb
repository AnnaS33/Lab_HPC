{
  "nbformat": 4,
  "nbformat_minor": 0,
  "metadata": {
    "colab": {
      "name": "Untitled2.ipynb",
      "provenance": [],
      "collapsed_sections": []
    },
    "kernelspec": {
      "display_name": "Python 3",
      "name": "python3"
    },
    "language_info": {
      "name": "python"
    },
    "accelerator": "GPU"
  },
  "cells": [
    {
      "cell_type": "markdown",
      "metadata": {
        "id": "BYNTn70PwOlh"
      },
      "source": [
        "## Bilateral filter"
      ]
    },
    {
      "cell_type": "markdown",
      "metadata": {
        "id": "g0s4rraEnYbu"
      },
      "source": [
        "### Обработка изображения на CPU"
      ]
    },
    {
      "cell_type": "code",
      "metadata": {
        "id": "bE6FpCJRwKZQ"
      },
      "source": [
        "#Считываем изображение и указываем значение сигма\n",
        "import numpy as np\n",
        "import cv2\n",
        "image = cv2.imread('sample_data/woman.bmp', cv2.IMREAD_GRAYSCALE)\n",
        "gg=200"
      ],
      "execution_count": 1,
      "outputs": []
    },
    {
      "cell_type": "code",
      "metadata": {
        "id": "5cLwunvbn9iV"
      },
      "source": [
        "#Метод для рассчёта двустороннего фильтра\n",
        "def bilateralFilterCPU(image, gg):\n",
        "    result = np.zeros(image.shape)\n",
        "    for a in range(1, image.shape[0]-1):\n",
        "        for b in range(1, image.shape[1]-1):\n",
        "            SumK = 0\n",
        "            SumHP = 0    \n",
        "            for d in range(a-1, a+2):\n",
        "                for c in range(b-1, b+2):\n",
        "\n",
        "                    r = np.exp((-(image[d, c] - image[a,b])** 2) / gg ** 2) \n",
        "                    \n",
        "                    g= np.exp(-((d - a) ** 2 + (c - b) ** 2) / gg ** 2)\n",
        "\n",
        "                    SumK += g * r\n",
        "                    SumHP += g * r * image[d, c]\n",
        "\n",
        "            SumH = SumHP / SumK\n",
        "            result[a, b] = SumH\n",
        "\n",
        "    return m(result)"
      ],
      "execution_count": 2,
      "outputs": []
    },
    {
      "cell_type": "code",
      "metadata": {
        "id": "ile8V-D1oCbn"
      },
      "source": [
        "# метод для обработки граничных пикселей, так как основной метод их не захватывает\n",
        "def m(image):\n",
        "    for a in range(0, image.shape[0]):\n",
        "        image[a,0]=image[a,1]\n",
        "        image[a,image.shape[1]-1]=image[a,image.shape[1]-2]\n",
        "        \n",
        "    for b in range(0, image.shape[1]):\n",
        "        image[0,b]=image[1,b]\n",
        "        image[image.shape[0]-1,b]=image[image.shape[0]-2,b] \n",
        "    return image\n"
      ],
      "execution_count": 3,
      "outputs": []
    },
    {
      "cell_type": "code",
      "metadata": {
        "id": "nUx0W5aGoGGC"
      },
      "source": [
        ""
      ],
      "execution_count": 3,
      "outputs": []
    },
    {
      "cell_type": "code",
      "metadata": {
        "colab": {
          "base_uri": "https://localhost:8080/"
        },
        "id": "zr3_jhWeqS22",
        "outputId": "1a71d84b-f9c8-4521-fd56-d4e97a02c17d"
      },
      "source": [
        "#Запускаем обработку изображения на cpu \n",
        "import time\n",
        "start1 = time.clock()\n",
        "\n",
        "result_image=bilateralFilterCPU(image,gg)\n",
        "\n",
        "end1 = time.clock() - start1"
      ],
      "execution_count": 4,
      "outputs": [
        {
          "output_type": "stream",
          "name": "stderr",
          "text": [
            "/usr/local/lib/python3.7/dist-packages/ipykernel_launcher.py:3: DeprecationWarning: time.clock has been deprecated in Python 3.3 and will be removed from Python 3.8: use time.perf_counter or time.process_time instead\n",
            "  This is separate from the ipykernel package so we can avoid doing imports until\n",
            "/usr/local/lib/python3.7/dist-packages/ipykernel_launcher.py:11: RuntimeWarning: overflow encountered in ubyte_scalars\n",
            "  # This is added back by InteractiveShellApp.init_path()\n",
            "/usr/local/lib/python3.7/dist-packages/ipykernel_launcher.py:7: DeprecationWarning: time.clock has been deprecated in Python 3.3 and will be removed from Python 3.8: use time.perf_counter or time.process_time instead\n",
            "  import sys\n"
          ]
        }
      ]
    },
    {
      "cell_type": "code",
      "metadata": {
        "colab": {
          "base_uri": "https://localhost:8080/"
        },
        "id": "GdVmTDHNxcQg",
        "outputId": "4c8bf790-855c-4795-9f88-ed288bc8c0a9"
      },
      "source": [
        "#Записываем полученное изображение\n",
        "cv2.imwrite('sample_data/res1_woman.bmp', result_image)"
      ],
      "execution_count": 5,
      "outputs": [
        {
          "output_type": "execute_result",
          "data": {
            "text/plain": [
              "True"
            ]
          },
          "metadata": {},
          "execution_count": 5
        }
      ]
    },
    {
      "cell_type": "code",
      "metadata": {
        "colab": {
          "base_uri": "https://localhost:8080/"
        },
        "id": "W5iUcvSVoHnW",
        "outputId": "0c4b2e36-9e5e-45a8-83bc-7243142ac8c3"
      },
      "source": [
        "#Выводим время работы на cpu\n",
        "print(\"Время обработки изображения на CPU -\", end1)"
      ],
      "execution_count": 6,
      "outputs": [
        {
          "output_type": "stream",
          "name": "stdout",
          "text": [
            "Время обработки изображения на CPU - 22.033977\n"
          ]
        }
      ]
    },
    {
      "cell_type": "markdown",
      "metadata": {
        "id": "oxwYRHNfzFhO"
      },
      "source": [
        "### Теперь всё тоже самое, но на GPU"
      ]
    },
    {
      "cell_type": "code",
      "metadata": {
        "colab": {
          "base_uri": "https://localhost:8080/"
        },
        "id": "gbNW1vAHzMCx",
        "outputId": "021e75b5-7a1e-4377-e84a-79a6cae69ed4"
      },
      "source": [
        "#Для начала устанавливаем pycuda\n",
        "!pip install pycuda"
      ],
      "execution_count": 7,
      "outputs": [
        {
          "output_type": "stream",
          "name": "stdout",
          "text": [
            "Requirement already satisfied: pycuda in /usr/local/lib/python3.7/dist-packages (2021.1)\n",
            "Requirement already satisfied: mako in /usr/local/lib/python3.7/dist-packages (from pycuda) (1.1.6)\n",
            "Requirement already satisfied: pytools>=2011.2 in /usr/local/lib/python3.7/dist-packages (from pycuda) (2021.2.9)\n",
            "Requirement already satisfied: appdirs>=1.4.0 in /usr/local/lib/python3.7/dist-packages (from pycuda) (1.4.4)\n",
            "Requirement already satisfied: numpy>=1.6.0 in /usr/local/lib/python3.7/dist-packages (from pytools>=2011.2->pycuda) (1.19.5)\n",
            "Requirement already satisfied: MarkupSafe>=0.9.2 in /usr/local/lib/python3.7/dist-packages (from mako->pycuda) (2.0.1)\n"
          ]
        }
      ]
    },
    {
      "cell_type": "code",
      "metadata": {
        "id": "WXexTHkCzWr0"
      },
      "source": [
        "#Подгружаем всё необходимое\n",
        "from pycuda import driver, compiler\n",
        "import pycuda.autoinit\n",
        "BLOCK_SIZE = 16"
      ],
      "execution_count": 12,
      "outputs": []
    },
    {
      "cell_type": "code",
      "metadata": {
        "id": "PQO8vTy1SZNH"
      },
      "source": [
        "#Пишем функцию ядра\n",
        "from pycuda.compiler import SourceModule\n",
        "calculate_bilateral_GPU = SourceModule(\"\"\"\n",
        "texture<unsigned int, 2> tex;\n",
        "\n",
        "__global__ void kernel(unsigned int * __restrict__ image, const int M, const int N, const float gg)\n",
        "{\n",
        "    //получаем номер нити\n",
        "    const int x = threadIdx.x + blockDim.x * blockIdx.x;\n",
        "    const int y = threadIdx.y + blockDim.y * blockIdx.y;\n",
        "\n",
        "    //проверяем что не вышли за рамки изображения\n",
        "    if ((x < M) && (y < N)) {\n",
        "\n",
        "        //это центральный пиксель, который мы обрабатываем\n",
        "        float fa0 = tex2D(tex, x, y);\n",
        "        float SumK = 0;\n",
        "        float SumHP = 0;\n",
        "\n",
        "        for (int a = x-1; a <= x+1; a++){\n",
        "            for (int b = y-1; b <= y+1; b++){\n",
        "\n",
        "                //получаем пиксели, которые располагаются вокруг центрального\n",
        "                float fai = tex2D(tex, b, a);\n",
        "\n",
        "                //далее рассчитываем всё по формулам, как и в методе для cpu\n",
        "                float r = exp(-pow((fai - fa0), 2) / pow(gg, 2));\n",
        "                \n",
        "                float g = exp(-(pow(b - x, 2) + pow(a - y, 2)) / pow(gg, 2));\n",
        "               \n",
        "                SumK += g*r;\n",
        "                SumHP += g*r*tex2D(tex, b, a);\n",
        "            }\n",
        "        }\n",
        "        image[x*N + y] = SumHP / SumK;\n",
        "    }\n",
        "}\"\"\")\n",
        "\n",
        "kernel = calculate_bilateral_GPU.get_function(\"kernel\")"
      ],
      "execution_count": 9,
      "outputs": []
    },
    {
      "cell_type": "code",
      "metadata": {
        "id": "uhY7PcW4Yzcn",
        "colab": {
          "base_uri": "https://localhost:8080/"
        },
        "outputId": "0f3fdae9-b8c0-4c67-a9a0-227c0cdf2907"
      },
      "source": [
        "#Задаём сетку\n",
        "M,N=image.shape\n",
        "grid = (int(np.ceil(M/BLOCK_SIZE)),int(np.ceil(N/BLOCK_SIZE)))\n",
        "\n",
        "start2 = time.time()\n",
        "\n",
        "#Копируем данные в текстуру\n",
        "cu_tex = calculate_bilateral_GPU.get_texref(\"tex\")\n",
        "driver.matrix_to_texref(image.astype(np.int32), cu_tex, order=\"C\")\n",
        "\n",
        "#Запускаем функцию ядра\n",
        "result_image2 = np.zeros((M,N), dtype=np.int32)\n",
        "kernel(driver.Out(result_image2), \n",
        "       np.int32(M), np.int32(N), \n",
        "       np.float32(gg),\n",
        "       texrefs=[cu_tex], \n",
        "       block=(BLOCK_SIZE,BLOCK_SIZE,1), \n",
        "       grid=grid)\n",
        "\n",
        "end2 = time.time() - start2\n",
        "\n",
        "#Сохраняем новое изображение\n",
        "cv2.imwrite('sample_data/res2_woman.bmp', result_image2.astype(np.uint8))"
      ],
      "execution_count": 10,
      "outputs": [
        {
          "output_type": "execute_result",
          "data": {
            "text/plain": [
              "True"
            ]
          },
          "metadata": {},
          "execution_count": 10
        }
      ]
    },
    {
      "cell_type": "code",
      "metadata": {
        "colab": {
          "base_uri": "https://localhost:8080/"
        },
        "id": "ffyPd7cu2F8F",
        "outputId": "d6ddaeba-7050-42cf-8a6d-8709b994a3e9"
      },
      "source": [
        "print(\"Время обработки изображения на GPU -\", end2)"
      ],
      "execution_count": 11,
      "outputs": [
        {
          "output_type": "stream",
          "name": "stdout",
          "text": [
            "Время обработки изображения на GPU - 0.006096601486206055\n"
          ]
        }
      ]
    }
  ]
}