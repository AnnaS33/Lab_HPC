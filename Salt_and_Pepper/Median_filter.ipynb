{
  "nbformat": 4,
  "nbformat_minor": 0,
  "metadata": {
    "colab": {
      "name": "Untitled3.ipynb",
      "provenance": [],
      "collapsed_sections": []
    },
    "kernelspec": {
      "name": "python3",
      "display_name": "Python 3"
    },
    "language_info": {
      "name": "python"
    },
    "accelerator": "GPU"
  },
  "cells": [
    {
      "cell_type": "markdown",
      "metadata": {
        "id": "z7iG9mvS1cMa"
      },
      "source": [
        "# Median filter"
      ]
    },
    {
      "cell_type": "markdown",
      "metadata": {
        "id": "DKXhI1KjTNC4"
      },
      "source": [
        "### Для начала на обычное изображение наложим шум типа \"соль и перец\", и затем уже с ним будем работать"
      ]
    },
    {
      "cell_type": "code",
      "metadata": {
        "colab": {
          "base_uri": "https://localhost:8080/"
        },
        "id": "crV8gkHR1MZx",
        "outputId": "eb8f9c43-3d4e-431c-b8e5-a13e3c295df4"
      },
      "source": [
        "import numpy as np\n",
        "import random\n",
        "import cv2\n",
        "\n",
        "#метод для создания шума\n",
        "def noise_sp(image,v):\n",
        "    v2 = 1 - v \n",
        "    output = np.zeros(image.shape,np.uint8)\n",
        "    for i in range(image.shape[0]):\n",
        "        for j in range(image.shape[1]):\n",
        "            rand = random.random()\n",
        "            if rand < v:\n",
        "                output[i,j] = 0\n",
        "            elif rand > v2:\n",
        "                output[i,j] = 255\n",
        "            else:\n",
        "                output[i,j] = image[i][j]\n",
        "    return output\n",
        "\n",
        "image_or = cv2.imread('sample_data/Emilia.bmp',0)\n",
        "image = noise_sp(image_or,0.05)\n",
        "cv2.imwrite('sample_data/Emilia_noise.bmp', image)"
      ],
      "execution_count": 1,
      "outputs": [
        {
          "output_type": "execute_result",
          "data": {
            "text/plain": [
              "True"
            ]
          },
          "metadata": {},
          "execution_count": 1
        }
      ]
    },
    {
      "cell_type": "code",
      "metadata": {
        "id": "exJH9qI25TuK"
      },
      "source": [
        "#Изображение с шумом\n",
        "image = cv2.imread('sample_data/Emilia_noise.bmp', cv2.IMREAD_GRAYSCALE)"
      ],
      "execution_count": 2,
      "outputs": []
    },
    {
      "cell_type": "markdown",
      "metadata": {
        "id": "QkL07F6ZWYVJ"
      },
      "source": [
        "### Реализуем медианный фильтр на CPU"
      ]
    },
    {
      "cell_type": "code",
      "metadata": {
        "id": "_1V1t4Jl1poU"
      },
      "source": [
        "#Метод для рассчёта медианного фильтра\n",
        "def SAP(image):\n",
        "\n",
        "    result = np.zeros(image.shape)\n",
        "    pr_result=np.zeros(9)\n",
        "    \n",
        "    for a in range(1, image.shape[0]-1):\n",
        "        for b in range(1, image.shape[1]-1):\n",
        "\n",
        "            pr_result[0:3]=image[a-1:a+2,b]\n",
        "            pr_result[3:6]=image[a-1:a+2,b+1]\n",
        "            pr_result[6:9]=image[a-1:a+2,b-1]\n",
        "\n",
        "            p=sorted(pr_result)\n",
        "\n",
        "            result[a, b] = p[4]\n",
        "\n",
        "    #Обрабатываем граничные пиксели      \n",
        "    result[0,:]=result[1,:]\n",
        "    result[image.shape[0]-1,:]=result[image.shape[0]-2,:]\n",
        "    result[:,0]=result[:,1]\n",
        "    result[:,image.shape[1]-1]=result[:,image.shape[1]-2]\n",
        "    \n",
        "    return result"
      ],
      "execution_count": 3,
      "outputs": []
    },
    {
      "cell_type": "code",
      "metadata": {
        "id": "w8UtZdNb15Rp"
      },
      "source": [
        "#Обрабатываем изображение на CPU\n",
        "import time\n",
        "start1 = time.time()\n",
        "\n",
        "result_image=SAP(image)\n",
        "\n",
        "end1 = time.time() - start1"
      ],
      "execution_count": 4,
      "outputs": []
    },
    {
      "cell_type": "code",
      "metadata": {
        "colab": {
          "base_uri": "https://localhost:8080/"
        },
        "id": "UgFoYbX41_ek",
        "outputId": "b16c8d78-db48-46c2-e7cc-1f9f1fe8409e"
      },
      "source": [
        "#Записываем полученное изображение\n",
        "cv2.imwrite('sample_data/result1.bmp', result_image)"
      ],
      "execution_count": 5,
      "outputs": [
        {
          "output_type": "execute_result",
          "data": {
            "text/plain": [
              "True"
            ]
          },
          "metadata": {},
          "execution_count": 5
        }
      ]
    },
    {
      "cell_type": "code",
      "metadata": {
        "colab": {
          "base_uri": "https://localhost:8080/"
        },
        "id": "hTraoBK32Bup",
        "outputId": "214da419-1c7b-42f8-b8e4-fed817293217"
      },
      "source": [
        "#Выводим время работы на cpu\n",
        "print(\"Время обработки изображения на CPU -\", end1)"
      ],
      "execution_count": 6,
      "outputs": [
        {
          "output_type": "stream",
          "name": "stdout",
          "text": [
            "Время обработки изображения на CPU - 1.495190143585205\n"
          ]
        }
      ]
    },
    {
      "cell_type": "markdown",
      "metadata": {
        "id": "IB6wGfVAP7k8"
      },
      "source": [
        "### Реализуем медианный фильтр на GPU"
      ]
    },
    {
      "cell_type": "code",
      "metadata": {
        "colab": {
          "base_uri": "https://localhost:8080/"
        },
        "id": "fQDPTRmN2bE3",
        "outputId": "396fe579-476d-4267-be33-1c0b25438a2d"
      },
      "source": [
        "#Устанавливаем pycuda\n",
        "!pip install pycuda"
      ],
      "execution_count": 7,
      "outputs": [
        {
          "output_type": "stream",
          "name": "stdout",
          "text": [
            "Requirement already satisfied: pycuda in /usr/local/lib/python3.7/dist-packages (2021.1)\n",
            "Requirement already satisfied: mako in /usr/local/lib/python3.7/dist-packages (from pycuda) (1.1.6)\n",
            "Requirement already satisfied: appdirs>=1.4.0 in /usr/local/lib/python3.7/dist-packages (from pycuda) (1.4.4)\n",
            "Requirement already satisfied: pytools>=2011.2 in /usr/local/lib/python3.7/dist-packages (from pycuda) (2021.2.9)\n",
            "Requirement already satisfied: numpy>=1.6.0 in /usr/local/lib/python3.7/dist-packages (from pytools>=2011.2->pycuda) (1.19.5)\n",
            "Requirement already satisfied: MarkupSafe>=0.9.2 in /usr/local/lib/python3.7/dist-packages (from mako->pycuda) (2.0.1)\n"
          ]
        }
      ]
    },
    {
      "cell_type": "code",
      "metadata": {
        "id": "g8DVHCz92bKd"
      },
      "source": [
        "from pycuda import driver, compiler\n",
        "import pycuda.autoinit\n",
        "from pycuda.compiler import SourceModule\n",
        "BLOCK_SIZE = 16"
      ],
      "execution_count": 8,
      "outputs": []
    },
    {
      "cell_type": "code",
      "metadata": {
        "colab": {
          "base_uri": "https://localhost:8080/"
        },
        "id": "3ZlBSXxF2bQS",
        "outputId": "1cdbfebc-287a-455c-c07d-ff7371511548"
      },
      "source": [
        "#Пишем функцию ядра и вспомогательную, которая будет производить сортировку\n",
        "\n",
        "calculate_bilateral_GPU = SourceModule(\"\"\"\n",
        "texture<unsigned int, 2> tex;\n",
        "\n",
        "//сортировка массива \n",
        "__device__ inline void Sort_m(int massn[], int n) {\n",
        "    for (int i = 0; i < n; i++) {\n",
        "        bool flag = true;\n",
        "        int r;\n",
        "        for (int j = 0; j < n - (i + 1); j++) { \n",
        "            if (massn[j] > massn[j + 1]) {\n",
        "                flag = false;\n",
        "                r=massn[j];\n",
        "                massn[j]=massn[j + 1];\n",
        "                massn[j + 1]=r;\n",
        "            }\n",
        "        }\n",
        "        if (flag) break;\n",
        "      }\n",
        "}\n",
        "\n",
        "//Функция ядра\n",
        "__global__ void kernel(unsigned int * __restrict__ image,const int M, const int N)\n",
        "{\n",
        "    //получаем номер нити\n",
        "    const int x = threadIdx.x + blockDim.x * blockIdx.x;\n",
        "    const int y = threadIdx.y + blockDim.y * blockIdx.y;\n",
        "    \n",
        "    //проверяем что не вышли за рамки изображения\n",
        "    if ((x < M) && (y < N)) {\n",
        "      int massn[9];\n",
        "      int n=0;\n",
        "\n",
        "      for (int a = x-1; a <= x+1; a++){\n",
        "        for (int b = y-1; b <= y+1; b++){\n",
        "          //сохраняем центральный пиксель и окружающие его в массив\n",
        "          massn[n]=tex2D(tex, b, a);\n",
        "          n++;\n",
        "        }\n",
        "      }\n",
        "        //сортируем массив\n",
        "        Sort_m(massn,9);\n",
        "        //И в результирующий пиксель записываем значение с середины массива\n",
        "        image[x*N + y] = massn[4];\n",
        "    }\n",
        "}\"\"\")\n",
        "\n",
        "kernel = calculate_bilateral_GPU.get_function(\"kernel\")"
      ],
      "execution_count": 9,
      "outputs": [
        {
          "output_type": "stream",
          "name": "stderr",
          "text": [
            "/usr/local/lib/python3.7/dist-packages/ipykernel_launcher.py:47: UserWarning: The CUDA compiler succeeded, but said the following:\n",
            "nvcc warning : The 'compute_35', 'compute_37', 'compute_50', 'sm_35', 'sm_37' and 'sm_50' architectures are deprecated, and may be removed in a future release (Use -Wno-deprecated-gpu-targets to suppress warning).\n",
            "\n"
          ]
        }
      ]
    },
    {
      "cell_type": "code",
      "metadata": {
        "colab": {
          "base_uri": "https://localhost:8080/"
        },
        "id": "jFR5Zb5O26pT",
        "outputId": "19f720e5-be3f-4a42-ec4c-4fd53f05f64e"
      },
      "source": [
        "#Задаём сетку\n",
        "M,N=image.shape\n",
        "result_image2 = np.zeros((M,N), dtype=np.uint32)\n",
        "grid = (int(np.ceil(M/BLOCK_SIZE)),int(np.ceil(N/BLOCK_SIZE)))\n",
        "\n",
        "start2 = time.time()\n",
        "\n",
        "#Копируем данные в текстуру\n",
        "cu_tex = calculate_bilateral_GPU.get_texref(\"tex\")\n",
        "driver.matrix_to_texref(image.astype(np.uint32), cu_tex, order=\"C\")\n",
        "\n",
        "#Запускаем функцию ядра\n",
        "kernel(driver.Out(result_image2), np.int32(M), np.int32(N), texrefs=[cu_tex], block=(BLOCK_SIZE,BLOCK_SIZE,1), grid=grid)\n",
        "\n",
        "end2 = time.time() - start2\n",
        "\n",
        "#Сохраняем новое изображение\n",
        "cv2.imwrite('sample_data/result2.bmp', result_image2.astype(np.uint8))"
      ],
      "execution_count": 10,
      "outputs": [
        {
          "output_type": "execute_result",
          "data": {
            "text/plain": [
              "True"
            ]
          },
          "metadata": {},
          "execution_count": 10
        }
      ]
    },
    {
      "cell_type": "code",
      "metadata": {
        "colab": {
          "base_uri": "https://localhost:8080/"
        },
        "id": "ShrXOcLn27S9",
        "outputId": "5147ad92-b1a4-4246-d2e5-46c46b4a8159"
      },
      "source": [
        "print(\"Время обработки изображения на GPU -\", end2)"
      ],
      "execution_count": 11,
      "outputs": [
        {
          "output_type": "stream",
          "name": "stdout",
          "text": [
            "Время обработки изображения на GPU - 0.0033969879150390625\n"
          ]
        }
      ]
    }
  ]
}